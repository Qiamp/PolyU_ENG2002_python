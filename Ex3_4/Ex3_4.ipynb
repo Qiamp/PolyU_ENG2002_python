{
 "cells": [
  {
   "cell_type": "code",
   "execution_count": 16,
   "metadata": {},
   "outputs": [
    {
     "name": "stdout",
     "output_type": "stream",
     "text": [
      "ZHAO is NOT started with 'm'\n"
     ]
    }
   ],
   "source": [
    "name=input(\"Enter your name\")\n",
    "judgment = lambda name_temp : name_temp+\" is started with \\'m\\'.\" if (name_temp[0]==\"M\")  else name_temp+\" is NOT started with \\'m\\'.\"\n",
    "print(judgment(name))\n"
   ]
  }
 ],
 "metadata": {
  "kernelspec": {
   "display_name": "Python 3.9.13 64-bit",
   "language": "python",
   "name": "python3"
  },
  "language_info": {
   "codemirror_mode": {
    "name": "ipython",
    "version": 3
   },
   "file_extension": ".py",
   "mimetype": "text/x-python",
   "name": "python",
   "nbconvert_exporter": "python",
   "pygments_lexer": "ipython3",
   "version": "3.9.13"
  },
  "orig_nbformat": 4,
  "vscode": {
   "interpreter": {
    "hash": "b0fa6594d8f4cbf19f97940f81e996739fb7646882a419484c72d19e05852a7e"
   }
  }
 },
 "nbformat": 4,
 "nbformat_minor": 2
}
