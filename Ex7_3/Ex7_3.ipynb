{
 "cells": [
  {
   "cell_type": "code",
   "execution_count": null,
   "metadata": {},
   "outputs": [],
   "source": [
    "with open(\"ChanTM.txt\", \"w+\") as file:\n",
    "    file.write(\"Chan Taiman\\n\")\n",
    "    file.write(\"76 Blandings, Susssex\\n\")\n",
    "    file.write(\"1976\\n\")\n",
    "    file.write(\"1234\\n\")\n",
    "\n",
    "class Bank:\n",
    "    def changepswd(pswd, nwpswd):\n",
    "        with open(r'ChanTM.txt', 'r') as file:\n",
    "            data = file.read()\n",
    "            data = data.replace(str(pswd), str(nwpswd))\n",
    "            \n",
    "        with open(r'ChanTM.txt', 'w') as file:\n",
    "            file.write(data)\n",
    "        print(\"Password changed\")\n",
    "\n",
    "while True:\n",
    "    try:\n",
    "        acc = int(input(\"Enter an account number: \"))\n",
    "        if acc == 12345678:\n",
    "            while True:\n",
    "                try:\n",
    "                    pswd = int(input(\"Enter the password: \"))\n",
    "                    if pswd == 1234:\n",
    "                        print(\"You need to change your password\")\n",
    "                        while True:\n",
    "                            try:\n",
    "                                nwpswd = int(input(\"Enter new password: \"))\n",
    "                                repass = int(input(\"Re-enter the new password: \"))\n",
    "                                if nwpswd == repass:\n",
    "                                    Bank.changepswd(pswd, nwpswd)\n",
    "                                    break\n",
    "                                else:\n",
    "                                    print(\"Not matching, please enter password again!\")\n",
    "                            except:\n",
    "                                print(\"Please enter password again!\")\n",
    "                        break\n",
    "                    else:\n",
    "                        print(\"Wrong password, please re-enter!\")\n",
    "                except:\n",
    "                    print(\"Wrong password, please re-enter!\")\n",
    "            break\n",
    "        else:\n",
    "            print(\"Wrong account number, please re-enter!\")\n",
    "    except:\n",
    "        print(\"Wrong account number, please re-enter!\")"
   ]
  }
 ],
 "metadata": {
  "kernelspec": {
   "display_name": "Python 3.9.13 64-bit",
   "language": "python",
   "name": "python3"
  },
  "language_info": {
   "codemirror_mode": {
    "name": "ipython",
    "version": 3
   },
   "file_extension": ".py",
   "mimetype": "text/x-python",
   "name": "python",
   "nbconvert_exporter": "python",
   "pygments_lexer": "ipython3",
   "version": "3.9.13"
  },
  "orig_nbformat": 4,
  "vscode": {
   "interpreter": {
    "hash": "b0fa6594d8f4cbf19f97940f81e996739fb7646882a419484c72d19e05852a7e"
   }
  }
 },
 "nbformat": 4,
 "nbformat_minor": 2
}
