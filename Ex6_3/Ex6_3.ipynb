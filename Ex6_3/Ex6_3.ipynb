{
 "cells": [
  {
   "cell_type": "code",
   "execution_count": null,
   "metadata": {},
   "outputs": [],
   "source": [
    "def derivative(f):\n",
    "    dfdx = []\n",
    "    for i, coeff in enumerate(f):\n",
    "        if i == 0:\n",
    "            continue\n",
    "        dfdx.append(i * coeff)\n",
    "    return dfdx\n",
    "\n",
    "f = [4,5,0,2]\n",
    "print(derivative(f))\n",
    "\n",
    "f = [10,1,1,1,1,1]\n",
    "print(derivative(f))"
   ]
  }
 ],
 "metadata": {
  "kernelspec": {
   "display_name": "Python 3.9.13 64-bit",
   "language": "python",
   "name": "python3"
  },
  "language_info": {
   "name": "python",
   "version": "3.9.13"
  },
  "orig_nbformat": 4,
  "vscode": {
   "interpreter": {
    "hash": "b0fa6594d8f4cbf19f97940f81e996739fb7646882a419484c72d19e05852a7e"
   }
  }
 },
 "nbformat": 4,
 "nbformat_minor": 2
}
