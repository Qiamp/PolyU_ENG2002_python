{
 "cells": [
  {
   "cell_type": "code",
   "execution_count": null,
   "metadata": {},
   "outputs": [],
   "source": [
    "from math import sqrt\n",
    "pSum=0\n",
    "my_iter=range(1,10,1)\n",
    "for x in my_iter:\n",
    "    pSum+=((-1)**(x-1))/((2*x-1)*3**(x-1))\n",
    "pRes=sqrt(12)*pSum\n",
    "print(pRes)\n",
    "\n",
    "#pRes is pai"
   ]
  }
 ],
 "metadata": {
  "kernelspec": {
   "display_name": "Python 3.9.13 64-bit",
   "language": "python",
   "name": "python3"
  },
  "language_info": {
   "name": "python",
   "version": "3.9.13"
  },
  "orig_nbformat": 4,
  "vscode": {
   "interpreter": {
    "hash": "b0fa6594d8f4cbf19f97940f81e996739fb7646882a419484c72d19e05852a7e"
   }
  }
 },
 "nbformat": 4,
 "nbformat_minor": 2
}
