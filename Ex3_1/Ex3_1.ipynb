{
 "cells": [
  {
   "cell_type": "code",
   "execution_count": 18,
   "metadata": {},
   "outputs": [
    {
     "name": "stdout",
     "output_type": "stream",
     "text": [
      "It's a holiday\n"
     ]
    }
   ],
   "source": [
    "weekday=('Mon','Tue','Wed','Thu','Fri','Sat','Sun')\n",
    "today=input(\"Enter the day of a week\")\n",
    "if today in weekday[0:5]:\n",
    "        print(\"It's not a holiday yet\")\n",
    "        if today in weekday[0:4]:\n",
    "                print(\"We have more than 1 day before holiday\")\n",
    "elif today in weekday[5:7]:\n",
    "        print(\"It's a holiday\")\n",
    "else:\n",
    "        print(\"Wrong input\")"
   ]
  }
 ],
 "metadata": {
  "kernelspec": {
   "display_name": "Python 3.9.13 64-bit",
   "language": "python",
   "name": "python3"
  },
  "language_info": {
   "codemirror_mode": {
    "name": "ipython",
    "version": 3
   },
   "file_extension": ".py",
   "mimetype": "text/x-python",
   "name": "python",
   "nbconvert_exporter": "python",
   "pygments_lexer": "ipython3",
   "version": "3.9.13"
  },
  "orig_nbformat": 4,
  "vscode": {
   "interpreter": {
    "hash": "b0fa6594d8f4cbf19f97940f81e996739fb7646882a419484c72d19e05852a7e"
   }
  }
 },
 "nbformat": 4,
 "nbformat_minor": 2
}
