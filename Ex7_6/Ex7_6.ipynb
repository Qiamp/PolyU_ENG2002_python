{
 "cells": [
  {
   "cell_type": "code",
   "execution_count": 1,
   "metadata": {},
   "outputs": [
    {
     "name": "stdout",
     "output_type": "stream",
     "text": [
      "23\n",
      "Dot product of two Vector2D objects only\n",
      "4i + 6j\n",
      "8i + 10j\n",
      "Multiply a scalar only\n"
     ]
    }
   ],
   "source": [
    "class Vector2D:\n",
    "    a = None\n",
    "    b = None\n",
    "    def __init__(self, a, b):\n",
    "        self.a = a\n",
    "        self.b = b\n",
    "        \n",
    "    def __mul__(self, scalar):\n",
    "        try:\n",
    "            if isinstance(self, Vector2D) and not isinstance(scalar, Vector2D):\n",
    "                return f'{self.a*scalar}i + {self.b*scalar}j'\n",
    "            else:\n",
    "                raise NotImplementedError\n",
    "        except NotImplementedError:\n",
    "            return 'Multiply a scalar only'\n",
    "    \n",
    "    def __rmul__(self, scalar):\n",
    "        try:\n",
    "            if isinstance(self, Vector2D) and not isinstance(scalar, Vector2D):\n",
    "                return f'{self.a*scalar}i + {self.b*scalar}j'\n",
    "            else:\n",
    "               raise NotImplementedError \n",
    "        except NotImplementedError:\n",
    "            return 'Multiply a scalar only'\n",
    "    \n",
    "    def __matmul__(self, other):\n",
    "        try:\n",
    "            if isinstance(self, Vector2D) and isinstance(other, Vector2D):\n",
    "                return str(self.a*other.a + self.b*other.b)\n",
    "            else:\n",
    "                raise TypeError\n",
    "        except TypeError:\n",
    "            return \"Dot product of two Vector2D objects only\"\n",
    "           \n",
    "\n",
    "\n",
    "if __name__ == '__main__':\n",
    "    v1 = Vector2D(2, 3)\n",
    "    v2 = Vector2D(4, 5)\n",
    "    \n",
    "    print(v1@v2)\n",
    "    print(v1@1)\n",
    "    print(2*v1)\n",
    "    print(2*v2)\n",
    "    print(v1*v2)"
   ]
  }
 ],
 "metadata": {
  "kernelspec": {
   "display_name": "Python 3.9.13 64-bit",
   "language": "python",
   "name": "python3"
  },
  "language_info": {
   "codemirror_mode": {
    "name": "ipython",
    "version": 3
   },
   "file_extension": ".py",
   "mimetype": "text/x-python",
   "name": "python",
   "nbconvert_exporter": "python",
   "pygments_lexer": "ipython3",
   "version": "3.9.13"
  },
  "orig_nbformat": 4,
  "vscode": {
   "interpreter": {
    "hash": "b0fa6594d8f4cbf19f97940f81e996739fb7646882a419484c72d19e05852a7e"
   }
  }
 },
 "nbformat": 4,
 "nbformat_minor": 2
}
