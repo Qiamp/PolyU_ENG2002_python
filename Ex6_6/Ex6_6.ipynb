{
 "cells": [
  {
   "cell_type": "code",
   "execution_count": null,
   "metadata": {},
   "outputs": [],
   "source": [
    "input_string=input(\"Please input a string: \")\n",
    "count = 0\n",
    "vowels = set(\"AEIOUaeiou\")\n",
    "for letter in input_string:\n",
    "    if letter in vowels:\n",
    "        count = count+1\n",
    "print(\"Number of vowels is\",count)"
   ]
  }
 ],
 "metadata": {
  "language_info": {
   "name": "python"
  },
  "orig_nbformat": 4
 },
 "nbformat": 4,
 "nbformat_minor": 2
}
