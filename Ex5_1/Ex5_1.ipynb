{
 "cells": [
  {
   "cell_type": "code",
   "execution_count": 17,
   "metadata": {},
   "outputs": [
    {
     "name": "stdout",
     "output_type": "stream",
     "text": [
      "kB   =  1.3806e-23 J/K\n",
      "mu_e = -9.2848e-24 J/T\n",
      "c    =  2.9979e+08 m/s\n",
      "===    G = +6.67e-11 [Nm^2/kg^2] ===\n",
      "=== mu_e = -9.28e-24 [      J/T] ===\n"
     ]
    }
   ],
   "source": [
    "Boltzmann_constant_Symbol=\"kB\"\n",
    "Boltzmann_constant_Value=1.380649e-23\n",
    "Boltzmann_constant_Unit=\"J/K\"\n",
    "\n",
    "Speed_of_light_Symbol=\"c\"\n",
    "Speed_of_light_Value=2.99792458e8 \n",
    "Speed_of_light_Unit=\"m/s\"\n",
    "\n",
    "Electron_magnetic_moment_Symbol=\"mu_e\"\n",
    "Electron_magnetic_moment_Value=-9.28476377e-24\n",
    "Electron_magnetic_moment_Unit=\"J/T\"\n",
    "\n",
    "Gravitational_constant_Symbol=\"G\"\n",
    "Gravitational_constant_Value=6.67430e-11\n",
    "Gravitational_constant_Unit=\"Nm^2/kg^2\"\n",
    "\n",
    "print(\"{0:<5}={1:>12.4e}{2:>4}\".format(Boltzmann_constant_Symbol,Boltzmann_constant_Value,Boltzmann_constant_Unit))\n",
    "print(\"{0:<5}={1:>12.4e}{2:>4}\".format(Electron_magnetic_moment_Symbol,Electron_magnetic_moment_Value,Electron_magnetic_moment_Unit))\n",
    "print(\"{0:<5}={1:>12.4e}{2:>4}\".format(Speed_of_light_Symbol,Speed_of_light_Value,Speed_of_light_Unit))\n",
    "print(\"=== {0:>4} = {1:+.2e} [{2}] ===\".format(Gravitational_constant_Symbol,Gravitational_constant_Value,Gravitational_constant_Unit))\n",
    "print(\"=== {0:>4} = {1:+.2e} [{2:>9}] ===\".format(Electron_magnetic_moment_Symbol,Electron_magnetic_moment_Value,Electron_magnetic_moment_Unit))\n"
   ]
  }
 ],
 "metadata": {
  "kernelspec": {
   "display_name": "Python 3.9.12 ('base')",
   "language": "python",
   "name": "python3"
  },
  "language_info": {
   "codemirror_mode": {
    "name": "ipython",
    "version": 3
   },
   "file_extension": ".py",
   "mimetype": "text/x-python",
   "name": "python",
   "nbconvert_exporter": "python",
   "pygments_lexer": "ipython3",
   "version": "3.9.12"
  },
  "orig_nbformat": 4,
  "vscode": {
   "interpreter": {
    "hash": "a2ab3825ac7005fb7b26f112e9c99ae62f464c629e30b0d534c3b931b6cbc3ff"
   }
  }
 },
 "nbformat": 4,
 "nbformat_minor": 2
}
