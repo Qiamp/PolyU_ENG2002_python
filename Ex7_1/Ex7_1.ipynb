{
 "cells": [
  {
   "cell_type": "code",
   "execution_count": 1,
   "metadata": {},
   "outputs": [
    {
     "name": "stdout",
     "output_type": "stream",
     "text": [
      "Hello Chan Taiman,\n",
      "Account 123456 has a balance of HKD 1000\n",
      "Invalid deposit amount: -64\n",
      "You have deposited 2000, balance is 3000.\n",
      "Insufficient funds\n",
      "Invalid withdrawal amount: -64\n",
      "You have withdrawn 1500, balance is 1500.\n"
     ]
    }
   ],
   "source": [
    "class BankAccount:\n",
    "    def __init__(self,cust_name,acc_no,bal):\n",
    "        self.cust_name=cust_name\n",
    "        self.acc_no=acc_no\n",
    "        self.bal=bal\n",
    "        print(\"Hello\",self.cust_name+\",\")\n",
    "        print(\"Account\",self.acc_no,\"has a balance of HKD\",self.bal)\n",
    "\n",
    "    def deposit(self,amt):\n",
    "        if amt<=0:\n",
    "            print(\"Invalid deposit amount:\",amt)\n",
    "        else:\n",
    "            self.bal+=amt\n",
    "            print(\"You have deposited \"+str(amt)+\", balance is \"+str(self.bal)+\".\")\n",
    "\n",
    "    def withdraw(self,amt):\n",
    "        if amt>self.bal:\n",
    "            print(\"Insufficient funds\")\n",
    "        elif amt<=0:\n",
    "            print(\"Invalid withdrawal amount:\",amt)\n",
    "        else:\n",
    "            self.bal-=amt\n",
    "            print(\"You have withdrawn \"+str(amt)+\", balance is \"+str(self.bal)+\".\")\n",
    "b=BankAccount(\"Chan Taiman\",123456,1000)\n",
    "b.deposit(-64)\n",
    "b.deposit(2000)\n",
    "b.withdraw(5000)\n",
    "b.withdraw(-64)\n",
    "b.withdraw(1500)"
   ]
  }
 ],
 "metadata": {
  "kernelspec": {
   "display_name": "Python 3.9.13 64-bit",
   "language": "python",
   "name": "python3"
  },
  "language_info": {
   "codemirror_mode": {
    "name": "ipython",
    "version": 3
   },
   "file_extension": ".py",
   "mimetype": "text/x-python",
   "name": "python",
   "nbconvert_exporter": "python",
   "pygments_lexer": "ipython3",
   "version": "3.9.13"
  },
  "orig_nbformat": 4,
  "vscode": {
   "interpreter": {
    "hash": "b0fa6594d8f4cbf19f97940f81e996739fb7646882a419484c72d19e05852a7e"
   }
  }
 },
 "nbformat": 4,
 "nbformat_minor": 2
}
