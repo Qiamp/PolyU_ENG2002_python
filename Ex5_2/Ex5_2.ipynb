{
 "cells": [
  {
   "cell_type": "code",
   "execution_count": null,
   "metadata": {},
   "outputs": [],
   "source": [
    "f = open(\"Ex5_2.txt\", \"x\")\n",
    "f.write(\"Write Text:\\nThis text is written to file!\")\n",
    "f.close()\n",
    "\n",
    "f=open(\"Ex5_2.txt\",\"r\")\n",
    "txt = f.read()\n",
    "x = txt.replace(\"written\", \"1234567\")\n",
    "f.close()\n",
    "\n",
    "f = open(\"Ex5_2.txt\", \"w\")\n",
    "f.write(x)\n",
    "f.close()"
   ]
  }
 ],
 "metadata": {
  "kernelspec": {
   "display_name": "Python 3.9.13 64-bit",
   "language": "python",
   "name": "python3"
  },
  "language_info": {
   "name": "python",
   "version": "3.9.13"
  },
  "orig_nbformat": 4,
  "vscode": {
   "interpreter": {
    "hash": "b0fa6594d8f4cbf19f97940f81e996739fb7646882a419484c72d19e05852a7e"
   }
  }
 },
 "nbformat": 4,
 "nbformat_minor": 2
}
