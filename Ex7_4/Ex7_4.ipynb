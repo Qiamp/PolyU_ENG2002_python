{
 "cells": [
  {
   "cell_type": "code",
   "execution_count": 1,
   "metadata": {},
   "outputs": [
    {
     "name": "stdout",
     "output_type": "stream",
     "text": [
      "The balance of account number 123456 is HKD0.00\n",
      "Deposit 2000.\n",
      "The balance of account number 123456 is HKD2000.00\n",
      "Add interest.\n",
      "The balance of account number 123456 is HKD2040.00\n",
      "Check balance under current account.\n",
      "The balance of account number 123456 is HKD2040.00\n",
      "Withdraw 2000 from current account.\n",
      "The balance of account number 123456 is HKD40.00\n",
      "Apply annual fee.\n",
      "The balance of account number 123456 is HKD0.00\n",
      "Deposit 2000 to current account.\n",
      "Apply annual fee 500.\n",
      "The balance of account number 123456 is HKD1500.00\n"
     ]
    }
   ],
   "source": [
    "from sav_ac1 import SavingsAccount\n",
    "from cur_ac1 import CurrentAccount\n",
    "\n",
    "sa = SavingsAccount(None, 123456, 2)\n",
    "sa.check_balance()\n",
    "print(\"Deposit 2000.\")\n",
    "sa.deposit(2000)\n",
    "sa.check_balance()\n",
    "print(\"Add interest.\")\n",
    "sa.add_interest()\n",
    "sa.check_balance()\n",
    "\n",
    "ca = CurrentAccount(None, 123456, 500, 10000, 2040)\n",
    "print(\"Check balance under current account.\")\n",
    "ca.check_balance()\n",
    "print(\"Withdraw 2000 from current account.\")\n",
    "ca.withdraw(2000)\n",
    "ca.check_balance()\n",
    "print(\"Apply annual fee.\")\n",
    "ca.apply_annual_fee()\n",
    "ca.check_balance()\n",
    "print(\"Deposit 2000 to current account.\")\n",
    "ca.deposit(2000)\n",
    "print(\"Apply annual fee 500.\")\n",
    "ca.apply_annual_fee()\n",
    "ca.check_balance()"
   ]
  }
 ],
 "metadata": {
  "kernelspec": {
   "display_name": "Python 3.9.13 64-bit",
   "language": "python",
   "name": "python3"
  },
  "language_info": {
   "codemirror_mode": {
    "name": "ipython",
    "version": 3
   },
   "file_extension": ".py",
   "mimetype": "text/x-python",
   "name": "python",
   "nbconvert_exporter": "python",
   "pygments_lexer": "ipython3",
   "version": "3.9.13"
  },
  "orig_nbformat": 4,
  "vscode": {
   "interpreter": {
    "hash": "b0fa6594d8f4cbf19f97940f81e996739fb7646882a419484c72d19e05852a7e"
   }
  }
 },
 "nbformat": 4,
 "nbformat_minor": 2
}
