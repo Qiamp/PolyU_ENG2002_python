{
 "cells": [
  {
   "cell_type": "code",
   "execution_count": null,
   "metadata": {},
   "outputs": [],
   "source": [
    "def CalA(a):\n",
    "    b=a**2-a\n",
    "    return b\n",
    "Myweight=70.215\n",
    "print(CalA(Myweight))"
   ]
  }
 ],
 "metadata": {
  "kernelspec": {
   "display_name": "Python 3.9.12 ('base')",
   "language": "python",
   "name": "python3"
  },
  "language_info": {
   "codemirror_mode": {
    "name": "ipython",
    "version": 3
   },
   "file_extension": ".py",
   "mimetype": "text/x-python",
   "name": "python",
   "nbconvert_exporter": "python",
   "pygments_lexer": "ipython3",
   "version": "3.9.12"
  },
  "orig_nbformat": 4,
  "vscode": {
   "interpreter": {
    "hash": "22060db212986357581e62361c3eebebeb6449cac1057860b607030f5c42b833"
   }
  }
 },
 "nbformat": 4,
 "nbformat_minor": 2
}
