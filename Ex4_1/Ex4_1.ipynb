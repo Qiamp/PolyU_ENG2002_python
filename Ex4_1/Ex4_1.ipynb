{
 "cells": [
  {
   "cell_type": "code",
   "execution_count": 12,
   "metadata": {},
   "outputs": [
    {
     "name": "stdout",
     "output_type": "stream",
     "text": [
      "a) Enter Data \n",
      "b) Show Data\n",
      "Quit\n",
      "End!\n"
     ]
    }
   ],
   "source": [
    "def menu():\n",
    "    while True:\n",
    "        print(\"a) Enter Data \")\n",
    "        print(\"b) Show Data\")\n",
    "        print(\"c) Quit\")\n",
    "        command=input()\n",
    "        if command==\"a\":\n",
    "           command_a()\n",
    "        if command==\"b\":\n",
    "           command_b()\n",
    "        if command==\"c\":\n",
    "           command_c()\n",
    "           break \n",
    "def command_a():\n",
    "    print(\"Please enter data:\")\n",
    "def command_b():\n",
    "    print(\"Data are shown.\")\n",
    "def command_c():\n",
    "    print(\"End!\")\n",
    "menu()\n"
   ]
  }
 ],
 "metadata": {
  "kernelspec": {
   "display_name": "Python 3.9.13 64-bit",
   "language": "python",
   "name": "python3"
  },
  "language_info": {
   "codemirror_mode": {
    "name": "ipython",
    "version": 3
   },
   "file_extension": ".py",
   "mimetype": "text/x-python",
   "name": "python",
   "nbconvert_exporter": "python",
   "pygments_lexer": "ipython3",
   "version": "3.9.13"
  },
  "orig_nbformat": 4,
  "vscode": {
   "interpreter": {
    "hash": "b0fa6594d8f4cbf19f97940f81e996739fb7646882a419484c72d19e05852a7e"
   }
  }
 },
 "nbformat": 4,
 "nbformat_minor": 2
}
