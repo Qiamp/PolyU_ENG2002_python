{
 "cells": [
  {
   "cell_type": "code",
   "execution_count": 4,
   "metadata": {},
   "outputs": [
    {
     "name": "stdout",
     "output_type": "stream",
     "text": [
      "aaa\n",
      "aaa\n"
     ]
    }
   ],
   "source": [
    "nRow = int(input(\"No. of rows:\"))\n",
    "nCol = int(input(\"No. of columns:\"))\n",
    "ch = input(\"Which characters\")\n",
    "row=list(range(nRow+1))\n",
    "column=list(range(nCol+1))\n",
    "i=0\n",
    "k=0\n",
    "while row[i] < nRow:\n",
    "    while column[k] < nCol:\n",
    "        print(ch,end='')\n",
    "        k=k+1\n",
    "    k=0\n",
    "    i=i+1\n",
    "    print('',end='\\n')\n",
    "    "
   ]
  }
 ],
 "metadata": {
  "kernelspec": {
   "display_name": "Python 3.9.13 64-bit",
   "language": "python",
   "name": "python3"
  },
  "language_info": {
   "codemirror_mode": {
    "name": "ipython",
    "version": 3
   },
   "file_extension": ".py",
   "mimetype": "text/x-python",
   "name": "python",
   "nbconvert_exporter": "python",
   "pygments_lexer": "ipython3",
   "version": "3.9.13"
  },
  "orig_nbformat": 4,
  "vscode": {
   "interpreter": {
    "hash": "b0fa6594d8f4cbf19f97940f81e996739fb7646882a419484c72d19e05852a7e"
   }
  }
 },
 "nbformat": 4,
 "nbformat_minor": 2
}
