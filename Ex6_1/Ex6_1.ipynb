{
 "cells": [
  {
   "cell_type": "code",
   "execution_count": null,
   "metadata": {},
   "outputs": [],
   "source": [
    "n=int(input('Enter the length of the list: '))\n",
    "uList=[]\n",
    "for i in range(0,n):\n",
    "    ele=int(input('Enter the element of index {}: '.format(i))) \n",
    "    uList.append(ele)\n",
    "print(uList)\n",
    "sorted_numbers=sorted(uList,reverse=True)\n",
    "print(sorted_numbers)\n",
    "\n",
    "ranks = []\n",
    "for score in sorted_numbers:\n",
    "    ranks.append(sorted_numbers.index(score) + 1)\n",
    "print(ranks)"
   ]
  }
 ],
 "metadata": {
  "kernelspec": {
   "display_name": "Python 3.9.13 64-bit",
   "language": "python",
   "name": "python3"
  },
  "language_info": {
   "codemirror_mode": {
    "name": "ipython",
    "version": 3
   },
   "file_extension": ".py",
   "mimetype": "text/x-python",
   "name": "python",
   "nbconvert_exporter": "python",
   "pygments_lexer": "ipython3",
   "version": "3.9.13"
  },
  "orig_nbformat": 4,
  "vscode": {
   "interpreter": {
    "hash": "b0fa6594d8f4cbf19f97940f81e996739fb7646882a419484c72d19e05852a7e"
   }
  }
 },
 "nbformat": 4,
 "nbformat_minor": 2
}
