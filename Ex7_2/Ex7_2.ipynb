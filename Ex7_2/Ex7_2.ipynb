{
 "cells": [
  {
   "cell_type": "code",
   "execution_count": 1,
   "metadata": {},
   "outputs": [
    {
     "name": "stdout",
     "output_type": "stream",
     "text": [
      "Hello Chan Taiman\n",
      "The balance of account number 123456 is HKD1000.0\n",
      "Invalid loan amount of HKD-64.\n",
      "Invalid loan amount of HKD0.\n",
      "A loan of HKD 2000.0 is set up.\n",
      "The current loan is HKD2000.0.\n",
      "A loan of HKD 5000.0 is set up.\n",
      "The current loan is HKD5000.0.\n",
      "Invalid return-loan amount of HKD0\n",
      "Insufficient funds\n",
      "A loan of HKD4500.0 is returned.\n",
      "The current loan is HKD4500.0.\n",
      "A loan of HKD4400.0 is returned.\n",
      "The current loan is HKD4400.0.\n",
      "The balance of account number 123456 is HKD400.0\n"
     ]
    }
   ],
   "source": [
    "from b_ac2 import BAc2\n",
    "print(\"Hello Chan Taiman\")\n",
    "obj = BAc2(123456, 1000.0)\n",
    "print(obj)\n",
    "obj.setLoan(\"HKD-64\")\n",
    "obj.setLoan(\"HKD0\")\n",
    "obj.setLoan(\"HKD2000\")\n",
    "obj.setLoan(\"HKD3000\")\n",
    "obj.retLoan(\"HKD0\")\n",
    "obj.retLoan(\"HKD6000\")\n",
    "obj.retLoan(\"HKD500\")\n",
    "obj.retLoan(\"HKD100\")\n",
    "print(obj)"
   ]
  }
 ],
 "metadata": {
  "kernelspec": {
   "display_name": "Python 3.9.13 64-bit",
   "language": "python",
   "name": "python3"
  },
  "language_info": {
   "codemirror_mode": {
    "name": "ipython",
    "version": 3
   },
   "file_extension": ".py",
   "mimetype": "text/x-python",
   "name": "python",
   "nbconvert_exporter": "python",
   "pygments_lexer": "ipython3",
   "version": "3.9.13"
  },
  "orig_nbformat": 4,
  "vscode": {
   "interpreter": {
    "hash": "b0fa6594d8f4cbf19f97940f81e996739fb7646882a419484c72d19e05852a7e"
   }
  }
 },
 "nbformat": 4,
 "nbformat_minor": 2
}
