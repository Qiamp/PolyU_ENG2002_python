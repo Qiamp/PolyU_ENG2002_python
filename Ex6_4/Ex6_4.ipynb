{
 "cells": [
  {
   "cell_type": "code",
   "execution_count": 1,
   "metadata": {},
   "outputs": [
    {
     "name": "stdout",
     "output_type": "stream",
     "text": [
      "{'Carl': 29.585798816568044, 'Felix': 25.15589569160998, 'Wilson': 21.208448753462605, 'Mike': 20.01836547291093}\n",
      "The BMI of Carl is 29.59\n",
      "The BMI of Felix is 25.16\n",
      "The BMI of Wilson is 21.21\n",
      "The BMI of Mike is 20.02\n"
     ]
    }
   ],
   "source": [
    "person={'Carl':(50,1.3),'Felix':(71,1.68),'Wilson':(49,1.52),'Mike':(54.5,1.65) }\n",
    "ans_dict={}     \n",
    "for key,value in person.items():\n",
    "    BMI=value[0]/value[1]**2   \n",
    "    ans_dict[key]=BMI     \n",
    "    \n",
    "print(ans_dict) \n",
    "   \n",
    "for key,value in ans_dict.items():\n",
    "    print(\"The BMI of\",key,\"is\",round(value,2))"
   ]
  }
 ],
 "metadata": {
  "kernelspec": {
   "display_name": "Python 3.9.13 64-bit",
   "language": "python",
   "name": "python3"
  },
  "language_info": {
   "codemirror_mode": {
    "name": "ipython",
    "version": 3
   },
   "file_extension": ".py",
   "mimetype": "text/x-python",
   "name": "python",
   "nbconvert_exporter": "python",
   "pygments_lexer": "ipython3",
   "version": "3.9.13"
  },
  "orig_nbformat": 4,
  "vscode": {
   "interpreter": {
    "hash": "b0fa6594d8f4cbf19f97940f81e996739fb7646882a419484c72d19e05852a7e"
   }
  }
 },
 "nbformat": 4,
 "nbformat_minor": 2
}
