{
 "cells": [
  {
   "cell_type": "code",
   "execution_count": 1,
   "metadata": {},
   "outputs": [
    {
     "name": "stdout",
     "output_type": "stream",
     "text": [
      "Hello there.\n",
      "Here is 5: 5\n",
      "Here is a very big number:\t 7000\n",
      "And a very very big number:\t 1e+21\n",
      "ZHAO Jiaqi  has  70.2 kg\n"
     ]
    }
   ],
   "source": [
    "print(\"Hello there.\")\n",
    "print(\"Here is 5:\",5)\n",
    "print(\"Here is a very big number:\\t\",7000)\n",
    "#print(\"Here is the sum of 8 and 5:\\t\",8+5)\n",
    "#print(\"Here's a fraction:\\t\\t\",float(5/8))\n",
    "print(\"And a very very big number:\\t\",float(1000**7))\n",
    "'''\n",
    "\n",
    "The output are:\n",
    "Hello there.\n",
    "Here is 5: 5\n",
    "Here is a very big number:\t 7000\n",
    "Here is the sum of 8 and 5:\t 13\n",
    "Here's a fraction:\t\t 0.625\n",
    "And a very very big number:\t 1e+21\n",
    "\n",
    "'''\n",
    "MyName=\"ZHAO Jiaqi\"\n",
    "MyWeight=70.215\n",
    "print(MyName,\" has \",\"{:.1f}\".format(MyWeight),\"kg\")\n",
    "\"\"\"\n",
    "\n",
    "Finally, the output are:\n",
    "Hello there.\n",
    "Here is 5: 5\n",
    "Here is a very big number:\t 7000\n",
    "And a very very big number:\t 1e+21\n",
    "ZHAO Jiaqi  has  70.2 kg\n",
    "\n",
    "\"\"\"\n",
    "\n"
   ]
  }
 ],
 "metadata": {
  "kernelspec": {
   "display_name": "Python 3.9.13 64-bit",
   "language": "python",
   "name": "python3"
  },
  "language_info": {
   "codemirror_mode": {
    "name": "ipython",
    "version": 3
   },
   "file_extension": ".py",
   "mimetype": "text/x-python",
   "name": "python",
   "nbconvert_exporter": "python",
   "pygments_lexer": "ipython3",
   "version": "3.9.13"
  },
  "orig_nbformat": 4,
  "vscode": {
   "interpreter": {
    "hash": "b0fa6594d8f4cbf19f97940f81e996739fb7646882a419484c72d19e05852a7e"
   }
  }
 },
 "nbformat": 4,
 "nbformat_minor": 2
}
