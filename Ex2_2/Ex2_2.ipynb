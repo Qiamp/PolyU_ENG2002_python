{
 "cells": [
  {
   "cell_type": "code",
   "execution_count": 4,
   "metadata": {},
   "outputs": [
    {
     "name": "stdout",
     "output_type": "stream",
     "text": [
      "Input Book 1 price:  12.0\n",
      "Input Book 1 quantity:  5\n",
      "Input Book 2 price:  18.0\n",
      "Input Book 2 quantity:  2\n",
      "==================================\n",
      "\t\t Company A\n",
      "\n",
      "**********************************\n",
      "Product\tUnit-price\t Quantity\n",
      "Book 1\tHKD  12.0 \t 5\n",
      "Book 1\tHKD  18.0 \t 2\n",
      "**********************************\n",
      "\t\t\t total\n",
      "\t\t\t 96.0\n",
      "==================================\n"
     ]
    }
   ],
   "source": [
    "Book_1_price=float(input())\n",
    "Book_1_quantity=int(input())\n",
    "Book_2_price=float(input())\n",
    "Book_2_quantity=int(input())\n",
    "print(\"Input Book 1 price: \",Book_1_price)\n",
    "print(\"Input Book 1 quantity: \",Book_1_quantity)\n",
    "print(\"Input Book 2 price: \",Book_2_price)\n",
    "print(\"Input Book 2 quantity: \",Book_2_quantity)\n",
    "print(\"=\"*34)\n",
    "print(\"\\t\\t\",\"Company A\")\n",
    "print(\"\\n\"+\"*\"*34)\n",
    "print(\"Product\\tUnit-price\\t Quantity\")\n",
    "print(\"Book 1\\tHKD \",Book_1_price,\"\\t\",Book_1_quantity)\n",
    "print(\"Book 1\\tHKD \",Book_2_price,\"\\t\",Book_2_quantity)\n",
    "print(\"*\"*34)\n",
    "print(\"\\t\\t\\t total\")\n",
    "print(\"\\t\\t\\t\",Book_1_price*Book_1_quantity+Book_2_price*Book_2_quantity)\n",
    "print(\"=\"*34)"
   ]
  }
 ],
 "metadata": {
  "kernelspec": {
   "display_name": "Python 3.9.13 64-bit",
   "language": "python",
   "name": "python3"
  },
  "language_info": {
   "codemirror_mode": {
    "name": "ipython",
    "version": 3
   },
   "file_extension": ".py",
   "mimetype": "text/x-python",
   "name": "python",
   "nbconvert_exporter": "python",
   "pygments_lexer": "ipython3",
   "version": "3.9.13"
  },
  "orig_nbformat": 4,
  "vscode": {
   "interpreter": {
    "hash": "b0fa6594d8f4cbf19f97940f81e996739fb7646882a419484c72d19e05852a7e"
   }
  }
 },
 "nbformat": 4,
 "nbformat_minor": 2
}
