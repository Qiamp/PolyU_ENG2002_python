{
 "cells": [
  {
   "cell_type": "code",
   "execution_count": null,
   "id": "64316374",
   "metadata": {},
   "outputs": [],
   "source": [
    "\"\"\"\n",
    "1.\n",
    "Shift-Enter is to run cells and select below.It will select the lower cell after the last running is completed. \n",
    "CTRL-Enter is to run cell.It will run the selected cell\n",
    "Alt-Enter is to run cells and insert below.It will run the selected cell, and then insert a new cell in the bottom\n",
    "\n",
    "2.\n",
    "Alt-Enter\n",
    "\n",
    "\"\"\""
   ]
  }
 ],
 "metadata": {
  "kernelspec": {
   "display_name": "Python 3.9.13 64-bit",
   "language": "python",
   "name": "python3"
  },
  "language_info": {
   "codemirror_mode": {
    "name": "ipython",
    "version": 3
   },
   "file_extension": ".py",
   "mimetype": "text/x-python",
   "name": "python",
   "nbconvert_exporter": "python",
   "pygments_lexer": "ipython3",
   "version": "3.9.13"
  },
  "vscode": {
   "interpreter": {
    "hash": "b0fa6594d8f4cbf19f97940f81e996739fb7646882a419484c72d19e05852a7e"
   }
  }
 },
 "nbformat": 4,
 "nbformat_minor": 5
}
