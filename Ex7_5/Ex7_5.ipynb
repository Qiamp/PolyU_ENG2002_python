{
 "cells": [
  {
   "cell_type": "code",
   "execution_count": 1,
   "metadata": {},
   "outputs": [
    {
     "name": "stdout",
     "output_type": "stream",
     "text": [
      "HelloChan Taiman,\n",
      "The balance of account number 123456 is HKD1000.00\n",
      "A loan of HKD 2000.00 is set up.\n",
      "The current loan is 2000.00.\n",
      "The balance of account number 123456 is HKD1000.00\n",
      "A loan of HKD500.00 is returned\n",
      "The current loan is 1500.00.\n",
      "The balance of account number 123456 is HKD500.00\n",
      "The balance of account number 123456 is HKD425.00\n"
     ]
    }
   ],
   "source": [
    "from b_ac1 import BankAccount\n",
    "class LoanAccount(BankAccount):\n",
    "    def __init__(self, customer, account_number, loan_interest_rate, balance=0, loan=0):\n",
    "        self.customer = customer\n",
    "        self.account_number = account_number\n",
    "        self.loan_interest_rate = loan_interest_rate\n",
    "        self.balance = balance\n",
    "        self.loan = loan\n",
    "    def setLoan(self, amount):\n",
    "        if amount>0:\n",
    "            self.loan+=amount\n",
    "            print(f'A loan of {self.currency:s} {amount:.2f} is set up.')\n",
    "            print(f'The current loan is {self.loan:.2f}.')\n",
    "        else:\n",
    "            print(f'Invalid load amount of {self.currency}{amount}.')\n",
    "    def retLoan(self, amount):\n",
    "        if amount>0:\n",
    "            if amount > self.balance:\n",
    "                print('Insufficient funds.')\n",
    "            else:\n",
    "                self.loan-=amount\n",
    "                self.balance-=amount\n",
    "                print(f'A loan of {self.currency}{amount:.2f} is returned')\n",
    "                print(f'The current loan is {self.loan:.2f}.')\n",
    "        else:\n",
    "            print(f'Invalid return-loan amount of {self.currency}{amount}.')\n",
    "\n",
    "    def debit_interest(self):\n",
    "        debit_amount = (self.loan*self.loan_interest_rate/100)\n",
    "        self.balance -= debit_amount\n",
    "\n",
    "loan_account = LoanAccount(\"Chan Taiman\",123456,5,1000,0)\n",
    "print('Hello' + loan_account.customer + ',')\n",
    "loan_account.check_balance()\n",
    "loan_account.setLoan(2000)\n",
    "loan_account.check_balance()\n",
    "loan_account.retLoan(500)\n",
    "loan_account.check_balance()\n",
    "loan_account.debit_interest()\n",
    "loan_account.check_balance()"
   ]
  }
 ],
 "metadata": {
  "kernelspec": {
   "display_name": "Python 3.9.13 64-bit",
   "language": "python",
   "name": "python3"
  },
  "language_info": {
   "codemirror_mode": {
    "name": "ipython",
    "version": 3
   },
   "file_extension": ".py",
   "mimetype": "text/x-python",
   "name": "python",
   "nbconvert_exporter": "python",
   "pygments_lexer": "ipython3",
   "version": "3.9.13"
  },
  "orig_nbformat": 4,
  "vscode": {
   "interpreter": {
    "hash": "b0fa6594d8f4cbf19f97940f81e996739fb7646882a419484c72d19e05852a7e"
   }
  }
 },
 "nbformat": 4,
 "nbformat_minor": 2
}
